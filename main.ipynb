{
 "cells": [
  {
   "cell_type": "markdown",
   "metadata": {},
   "source": [
    "# Youtube Video Title Predictor for Dhruv Rathee\n",
    "A **Machine Learning** `Model` to Predict Title of Youtube Videos of Specifically Dhruv Rathee With Input of `Description` and `No. of Views`."
   ]
  },
  {
   "cell_type": "markdown",
   "metadata": {},
   "source": [
    "## Fetch The Data"
   ]
  },
  {
   "cell_type": "code",
   "execution_count": 1,
   "metadata": {
    "tags": []
   },
   "outputs": [],
   "source": [
    "from fetch_data import fetch\n",
    "fetch()"
   ]
  },
  {
   "cell_type": "markdown",
   "metadata": {
    "tags": []
   },
   "source": [
    "## Vectorize The Data"
   ]
  },
  {
   "cell_type": "code",
   "execution_count": 2,
   "metadata": {
    "tags": []
   },
   "outputs": [],
   "source": [
    "from vectorize_data import vectorize_video_text\n",
    "vectorize_video_text()"
   ]
  },
  {
   "cell_type": "markdown",
   "metadata": {},
   "source": [
    "## Load The Data"
   ]
  },
  {
   "cell_type": "code",
   "execution_count": 3,
   "metadata": {
    "tags": []
   },
   "outputs": [
    {
     "data": {
      "text/html": [
       "<div>\n",
       "<style scoped>\n",
       "    .dataframe tbody tr th:only-of-type {\n",
       "        vertical-align: middle;\n",
       "    }\n",
       "\n",
       "    .dataframe tbody tr th {\n",
       "        vertical-align: top;\n",
       "    }\n",
       "\n",
       "    .dataframe thead th {\n",
       "        text-align: right;\n",
       "    }\n",
       "</style>\n",
       "<table border=\"1\" class=\"dataframe\">\n",
       "  <thead>\n",
       "    <tr style=\"text-align: right;\">\n",
       "      <th></th>\n",
       "      <th>Unnamed: 0</th>\n",
       "      <th>Title</th>\n",
       "      <th>Description</th>\n",
       "      <th>Views</th>\n",
       "      <th>Likes</th>\n",
       "    </tr>\n",
       "  </thead>\n",
       "  <tbody>\n",
       "    <tr>\n",
       "      <th>0</th>\n",
       "      <td>0</td>\n",
       "      <td>[[0.33333333 0.33333333 0.33333333 0.33333333 ...</td>\n",
       "      <td>[[0.02941176 0.02941176 0.02941176 0.05882353 ...</td>\n",
       "      <td>2793372</td>\n",
       "      <td>145552</td>\n",
       "    </tr>\n",
       "    <tr>\n",
       "      <th>1</th>\n",
       "      <td>1</td>\n",
       "      <td>[[0.40824829 0.40824829 0.40824829 0.40824829 ...</td>\n",
       "      <td>[[0.0298275  0.0298275  0.0298275  0.0298275  ...</td>\n",
       "      <td>3314998</td>\n",
       "      <td>167680</td>\n",
       "    </tr>\n",
       "    <tr>\n",
       "      <th>2</th>\n",
       "      <td>2</td>\n",
       "      <td>[[0.37796447 0.37796447 0.37796447 0.37796447 ...</td>\n",
       "      <td>[[0.03286204 0.03286204 0.03286204 0.06572408 ...</td>\n",
       "      <td>5896099</td>\n",
       "      <td>328429</td>\n",
       "    </tr>\n",
       "    <tr>\n",
       "      <th>3</th>\n",
       "      <td>3</td>\n",
       "      <td>[[0.37796447 0.37796447 0.37796447 0.37796447 ...</td>\n",
       "      <td>[[0.03041495 0.03041495 0.03041495 0.03041495 ...</td>\n",
       "      <td>4141493</td>\n",
       "      <td>198121</td>\n",
       "    </tr>\n",
       "    <tr>\n",
       "      <th>4</th>\n",
       "      <td>4</td>\n",
       "      <td>[[0.37796447 0.37796447 0.37796447 0.37796447 ...</td>\n",
       "      <td>[[0.0302337  0.0302337  0.0302337  0.0302337  ...</td>\n",
       "      <td>3296577</td>\n",
       "      <td>131908</td>\n",
       "    </tr>\n",
       "  </tbody>\n",
       "</table>\n",
       "</div>"
      ],
      "text/plain": [
       "   Unnamed: 0                                              Title   \n",
       "0           0  [[0.33333333 0.33333333 0.33333333 0.33333333 ...  \\\n",
       "1           1  [[0.40824829 0.40824829 0.40824829 0.40824829 ...   \n",
       "2           2  [[0.37796447 0.37796447 0.37796447 0.37796447 ...   \n",
       "3           3  [[0.37796447 0.37796447 0.37796447 0.37796447 ...   \n",
       "4           4  [[0.37796447 0.37796447 0.37796447 0.37796447 ...   \n",
       "\n",
       "                                         Description    Views   Likes  \n",
       "0  [[0.02941176 0.02941176 0.02941176 0.05882353 ...  2793372  145552  \n",
       "1  [[0.0298275  0.0298275  0.0298275  0.0298275  ...  3314998  167680  \n",
       "2  [[0.03286204 0.03286204 0.03286204 0.06572408 ...  5896099  328429  \n",
       "3  [[0.03041495 0.03041495 0.03041495 0.03041495 ...  4141493  198121  \n",
       "4  [[0.0302337  0.0302337  0.0302337  0.0302337  ...  3296577  131908  "
      ]
     },
     "execution_count": 3,
     "metadata": {},
     "output_type": "execute_result"
    }
   ],
   "source": [
    "import pandas as pd\n",
    "videos = pd.read_csv(\"vectorized_dhruv_rathee_videos.csv\")\n",
    "videos.head()"
   ]
  },
  {
   "attachments": {},
   "cell_type": "markdown",
   "metadata": {},
   "source": [
    "## Info of the DataSet"
   ]
  },
  {
   "cell_type": "code",
   "execution_count": 4,
   "metadata": {},
   "outputs": [
    {
     "name": "stdout",
     "output_type": "stream",
     "text": [
      "<class 'pandas.core.frame.DataFrame'>\n",
      "RangeIndex: 371 entries, 0 to 370\n",
      "Data columns (total 5 columns):\n",
      " #   Column       Non-Null Count  Dtype \n",
      "---  ------       --------------  ----- \n",
      " 0   Unnamed: 0   371 non-null    int64 \n",
      " 1   Title        371 non-null    object\n",
      " 2   Description  371 non-null    object\n",
      " 3   Views        371 non-null    int64 \n",
      " 4   Likes        371 non-null    int64 \n",
      "dtypes: int64(3), object(2)\n",
      "memory usage: 14.6+ KB\n"
     ]
    }
   ],
   "source": [
    "videos.info()"
   ]
  },
  {
   "cell_type": "code",
   "execution_count": 5,
   "metadata": {},
   "outputs": [
    {
     "data": {
      "text/html": [
       "<div>\n",
       "<style scoped>\n",
       "    .dataframe tbody tr th:only-of-type {\n",
       "        vertical-align: middle;\n",
       "    }\n",
       "\n",
       "    .dataframe tbody tr th {\n",
       "        vertical-align: top;\n",
       "    }\n",
       "\n",
       "    .dataframe thead th {\n",
       "        text-align: right;\n",
       "    }\n",
       "</style>\n",
       "<table border=\"1\" class=\"dataframe\">\n",
       "  <thead>\n",
       "    <tr style=\"text-align: right;\">\n",
       "      <th></th>\n",
       "      <th>Unnamed: 0</th>\n",
       "      <th>Views</th>\n",
       "      <th>Likes</th>\n",
       "    </tr>\n",
       "  </thead>\n",
       "  <tbody>\n",
       "    <tr>\n",
       "      <th>count</th>\n",
       "      <td>371.000000</td>\n",
       "      <td>3.710000e+02</td>\n",
       "      <td>371.000000</td>\n",
       "    </tr>\n",
       "    <tr>\n",
       "      <th>mean</th>\n",
       "      <td>185.000000</td>\n",
       "      <td>3.335111e+06</td>\n",
       "      <td>183855.299191</td>\n",
       "    </tr>\n",
       "    <tr>\n",
       "      <th>std</th>\n",
       "      <td>107.242715</td>\n",
       "      <td>2.364448e+06</td>\n",
       "      <td>113729.545290</td>\n",
       "    </tr>\n",
       "    <tr>\n",
       "      <th>min</th>\n",
       "      <td>0.000000</td>\n",
       "      <td>5.455800e+04</td>\n",
       "      <td>1424.000000</td>\n",
       "    </tr>\n",
       "    <tr>\n",
       "      <th>25%</th>\n",
       "      <td>92.500000</td>\n",
       "      <td>1.612798e+06</td>\n",
       "      <td>101329.000000</td>\n",
       "    </tr>\n",
       "    <tr>\n",
       "      <th>50%</th>\n",
       "      <td>185.000000</td>\n",
       "      <td>2.826966e+06</td>\n",
       "      <td>166028.000000</td>\n",
       "    </tr>\n",
       "    <tr>\n",
       "      <th>75%</th>\n",
       "      <td>277.500000</td>\n",
       "      <td>4.581922e+06</td>\n",
       "      <td>239584.500000</td>\n",
       "    </tr>\n",
       "    <tr>\n",
       "      <th>max</th>\n",
       "      <td>370.000000</td>\n",
       "      <td>1.286434e+07</td>\n",
       "      <td>718797.000000</td>\n",
       "    </tr>\n",
       "  </tbody>\n",
       "</table>\n",
       "</div>"
      ],
      "text/plain": [
       "       Unnamed: 0         Views          Likes\n",
       "count  371.000000  3.710000e+02     371.000000\n",
       "mean   185.000000  3.335111e+06  183855.299191\n",
       "std    107.242715  2.364448e+06  113729.545290\n",
       "min      0.000000  5.455800e+04    1424.000000\n",
       "25%     92.500000  1.612798e+06  101329.000000\n",
       "50%    185.000000  2.826966e+06  166028.000000\n",
       "75%    277.500000  4.581922e+06  239584.500000\n",
       "max    370.000000  1.286434e+07  718797.000000"
      ]
     },
     "execution_count": 5,
     "metadata": {},
     "output_type": "execute_result"
    }
   ],
   "source": [
    "videos.describe()"
   ]
  },
  {
   "attachments": {},
   "cell_type": "markdown",
   "metadata": {},
   "source": [
    "## Split Input and Output from the DataSet"
   ]
  },
  {
   "cell_type": "code",
   "execution_count": 6,
   "metadata": {},
   "outputs": [],
   "source": [
    "# Store the remaining columns in 'X'\n",
    "X = videos.drop('Title', axis=1)\n",
    "\n",
    "# Split the 'Title' column into a separate variable 'y'\n",
    "y = videos['Title']"
   ]
  },
  {
   "cell_type": "code",
   "execution_count": 7,
   "metadata": {},
   "outputs": [
    {
     "data": {
      "text/html": [
       "<div>\n",
       "<style scoped>\n",
       "    .dataframe tbody tr th:only-of-type {\n",
       "        vertical-align: middle;\n",
       "    }\n",
       "\n",
       "    .dataframe tbody tr th {\n",
       "        vertical-align: top;\n",
       "    }\n",
       "\n",
       "    .dataframe thead th {\n",
       "        text-align: right;\n",
       "    }\n",
       "</style>\n",
       "<table border=\"1\" class=\"dataframe\">\n",
       "  <thead>\n",
       "    <tr style=\"text-align: right;\">\n",
       "      <th></th>\n",
       "      <th>Unnamed: 0</th>\n",
       "      <th>Description</th>\n",
       "      <th>Views</th>\n",
       "      <th>Likes</th>\n",
       "    </tr>\n",
       "  </thead>\n",
       "  <tbody>\n",
       "    <tr>\n",
       "      <th>0</th>\n",
       "      <td>0</td>\n",
       "      <td>[[0.02941176 0.02941176 0.02941176 0.05882353 ...</td>\n",
       "      <td>2793372</td>\n",
       "      <td>145552</td>\n",
       "    </tr>\n",
       "    <tr>\n",
       "      <th>1</th>\n",
       "      <td>1</td>\n",
       "      <td>[[0.0298275  0.0298275  0.0298275  0.0298275  ...</td>\n",
       "      <td>3314998</td>\n",
       "      <td>167680</td>\n",
       "    </tr>\n",
       "    <tr>\n",
       "      <th>2</th>\n",
       "      <td>2</td>\n",
       "      <td>[[0.03286204 0.03286204 0.03286204 0.06572408 ...</td>\n",
       "      <td>5896099</td>\n",
       "      <td>328429</td>\n",
       "    </tr>\n",
       "    <tr>\n",
       "      <th>3</th>\n",
       "      <td>3</td>\n",
       "      <td>[[0.03041495 0.03041495 0.03041495 0.03041495 ...</td>\n",
       "      <td>4141493</td>\n",
       "      <td>198121</td>\n",
       "    </tr>\n",
       "    <tr>\n",
       "      <th>4</th>\n",
       "      <td>4</td>\n",
       "      <td>[[0.0302337  0.0302337  0.0302337  0.0302337  ...</td>\n",
       "      <td>3296577</td>\n",
       "      <td>131908</td>\n",
       "    </tr>\n",
       "  </tbody>\n",
       "</table>\n",
       "</div>"
      ],
      "text/plain": [
       "   Unnamed: 0                                        Description    Views   \n",
       "0           0  [[0.02941176 0.02941176 0.02941176 0.05882353 ...  2793372  \\\n",
       "1           1  [[0.0298275  0.0298275  0.0298275  0.0298275  ...  3314998   \n",
       "2           2  [[0.03286204 0.03286204 0.03286204 0.06572408 ...  5896099   \n",
       "3           3  [[0.03041495 0.03041495 0.03041495 0.03041495 ...  4141493   \n",
       "4           4  [[0.0302337  0.0302337  0.0302337  0.0302337  ...  3296577   \n",
       "\n",
       "    Likes  \n",
       "0  145552  \n",
       "1  167680  \n",
       "2  328429  \n",
       "3  198121  \n",
       "4  131908  "
      ]
     },
     "execution_count": 7,
     "metadata": {},
     "output_type": "execute_result"
    }
   ],
   "source": [
    "X.head()"
   ]
  },
  {
   "cell_type": "code",
   "execution_count": 8,
   "metadata": {},
   "outputs": [
    {
     "data": {
      "text/plain": [
       "0    [[0.33333333 0.33333333 0.33333333 0.33333333 ...\n",
       "1    [[0.40824829 0.40824829 0.40824829 0.40824829 ...\n",
       "2    [[0.37796447 0.37796447 0.37796447 0.37796447 ...\n",
       "3    [[0.37796447 0.37796447 0.37796447 0.37796447 ...\n",
       "4    [[0.37796447 0.37796447 0.37796447 0.37796447 ...\n",
       "Name: Title, dtype: object"
      ]
     },
     "execution_count": 8,
     "metadata": {},
     "output_type": "execute_result"
    }
   ],
   "source": [
    "y.head()"
   ]
  },
  {
   "attachments": {},
   "cell_type": "markdown",
   "metadata": {},
   "source": [
    "# Split `Train` and `Test` Set"
   ]
  },
  {
   "cell_type": "code",
   "execution_count": 9,
   "metadata": {},
   "outputs": [],
   "source": [
    "from sklearn.model_selection import train_test_split\n",
    "\n",
    "# Split Dataset Into Train and Test Set\n",
    "X_train, X_test, y_train, y_test = train_test_split(X, y, test_size=0.2, random_state=42)"
   ]
  },
  {
   "attachments": {},
   "cell_type": "markdown",
   "metadata": {},
   "source": [
    "## Take Info of Both `Train` and `Test` Set"
   ]
  },
  {
   "cell_type": "code",
   "execution_count": 10,
   "metadata": {},
   "outputs": [
    {
     "data": {
      "text/html": [
       "<div>\n",
       "<style scoped>\n",
       "    .dataframe tbody tr th:only-of-type {\n",
       "        vertical-align: middle;\n",
       "    }\n",
       "\n",
       "    .dataframe tbody tr th {\n",
       "        vertical-align: top;\n",
       "    }\n",
       "\n",
       "    .dataframe thead th {\n",
       "        text-align: right;\n",
       "    }\n",
       "</style>\n",
       "<table border=\"1\" class=\"dataframe\">\n",
       "  <thead>\n",
       "    <tr style=\"text-align: right;\">\n",
       "      <th></th>\n",
       "      <th>Unnamed: 0</th>\n",
       "      <th>Description</th>\n",
       "      <th>Views</th>\n",
       "      <th>Likes</th>\n",
       "    </tr>\n",
       "  </thead>\n",
       "  <tbody>\n",
       "    <tr>\n",
       "      <th>192</th>\n",
       "      <td>192</td>\n",
       "      <td>[[0.06119901 0.0305995  0.0305995  0.0305995  ...</td>\n",
       "      <td>1695648</td>\n",
       "      <td>117018</td>\n",
       "    </tr>\n",
       "    <tr>\n",
       "      <th>75</th>\n",
       "      <td>75</td>\n",
       "      <td>[[0.03077287 0.03077287 0.03077287 0.03077287 ...</td>\n",
       "      <td>6060899</td>\n",
       "      <td>325096</td>\n",
       "    </tr>\n",
       "    <tr>\n",
       "      <th>84</th>\n",
       "      <td>84</td>\n",
       "      <td>[[0.02786391 0.02786391 0.05572782 0.05572782 ...</td>\n",
       "      <td>2860754</td>\n",
       "      <td>137997</td>\n",
       "    </tr>\n",
       "    <tr>\n",
       "      <th>359</th>\n",
       "      <td>359</td>\n",
       "      <td>[[0.01933834 0.01933834 0.01933834 0.01933834 ...</td>\n",
       "      <td>208711</td>\n",
       "      <td>13237</td>\n",
       "    </tr>\n",
       "    <tr>\n",
       "      <th>16</th>\n",
       "      <td>16</td>\n",
       "      <td>[[0.03307706 0.06615412 0.03307706 0.03307706 ...</td>\n",
       "      <td>2035775</td>\n",
       "      <td>110762</td>\n",
       "    </tr>\n",
       "  </tbody>\n",
       "</table>\n",
       "</div>"
      ],
      "text/plain": [
       "     Unnamed: 0                                        Description    Views   \n",
       "192         192  [[0.06119901 0.0305995  0.0305995  0.0305995  ...  1695648  \\\n",
       "75           75  [[0.03077287 0.03077287 0.03077287 0.03077287 ...  6060899   \n",
       "84           84  [[0.02786391 0.02786391 0.05572782 0.05572782 ...  2860754   \n",
       "359         359  [[0.01933834 0.01933834 0.01933834 0.01933834 ...   208711   \n",
       "16           16  [[0.03307706 0.06615412 0.03307706 0.03307706 ...  2035775   \n",
       "\n",
       "      Likes  \n",
       "192  117018  \n",
       "75   325096  \n",
       "84   137997  \n",
       "359   13237  \n",
       "16   110762  "
      ]
     },
     "execution_count": 10,
     "metadata": {},
     "output_type": "execute_result"
    }
   ],
   "source": [
    "X_train.head()"
   ]
  },
  {
   "cell_type": "code",
   "execution_count": 12,
   "metadata": {},
   "outputs": [
    {
     "data": {
      "text/plain": [
       "192    [[0.33333333 0.66666667 0.33333333 0.33333333 ...\n",
       "75     [[0.35355339 0.35355339 0.35355339 0.35355339 ...\n",
       "84     [[0.31622777 0.31622777 0.31622777 0.31622777 ...\n",
       "359    [[0.30151134 0.30151134 0.30151134 0.30151134 ...\n",
       "16     [[0.33333333 0.33333333 0.33333333 0.33333333 ...\n",
       "Name: Title, dtype: object"
      ]
     },
     "execution_count": 12,
     "metadata": {},
     "output_type": "execute_result"
    }
   ],
   "source": [
    "y_train.head()"
   ]
  },
  {
   "cell_type": "code",
   "execution_count": 14,
   "metadata": {},
   "outputs": [
    {
     "data": {
      "text/html": [
       "<div>\n",
       "<style scoped>\n",
       "    .dataframe tbody tr th:only-of-type {\n",
       "        vertical-align: middle;\n",
       "    }\n",
       "\n",
       "    .dataframe tbody tr th {\n",
       "        vertical-align: top;\n",
       "    }\n",
       "\n",
       "    .dataframe thead th {\n",
       "        text-align: right;\n",
       "    }\n",
       "</style>\n",
       "<table border=\"1\" class=\"dataframe\">\n",
       "  <thead>\n",
       "    <tr style=\"text-align: right;\">\n",
       "      <th></th>\n",
       "      <th>Unnamed: 0</th>\n",
       "      <th>Description</th>\n",
       "      <th>Views</th>\n",
       "      <th>Likes</th>\n",
       "    </tr>\n",
       "  </thead>\n",
       "  <tbody>\n",
       "    <tr>\n",
       "      <th>327</th>\n",
       "      <td>327</td>\n",
       "      <td>[[0.02448511 0.02448511 0.02448511 0.02448511 ...</td>\n",
       "      <td>1138893</td>\n",
       "      <td>57851</td>\n",
       "    </tr>\n",
       "    <tr>\n",
       "      <th>33</th>\n",
       "      <td>33</td>\n",
       "      <td>[[0.03205853 0.09617558 0.03205853 0.03205853 ...</td>\n",
       "      <td>5666776</td>\n",
       "      <td>213287</td>\n",
       "    </tr>\n",
       "    <tr>\n",
       "      <th>15</th>\n",
       "      <td>15</td>\n",
       "      <td>[[0.03175003 0.03175003 0.03175003 0.06350006 ...</td>\n",
       "      <td>5914905</td>\n",
       "      <td>239606</td>\n",
       "    </tr>\n",
       "    <tr>\n",
       "      <th>314</th>\n",
       "      <td>314</td>\n",
       "      <td>[[0.02423219 0.02423219 0.02423219 0.07269657 ...</td>\n",
       "      <td>816234</td>\n",
       "      <td>50920</td>\n",
       "    </tr>\n",
       "    <tr>\n",
       "      <th>57</th>\n",
       "      <td>57</td>\n",
       "      <td>[[0.03196014 0.03196014 0.03196014 0.03196014 ...</td>\n",
       "      <td>7154900</td>\n",
       "      <td>365901</td>\n",
       "    </tr>\n",
       "  </tbody>\n",
       "</table>\n",
       "</div>"
      ],
      "text/plain": [
       "     Unnamed: 0                                        Description    Views   \n",
       "327         327  [[0.02448511 0.02448511 0.02448511 0.02448511 ...  1138893  \\\n",
       "33           33  [[0.03205853 0.09617558 0.03205853 0.03205853 ...  5666776   \n",
       "15           15  [[0.03175003 0.03175003 0.03175003 0.06350006 ...  5914905   \n",
       "314         314  [[0.02423219 0.02423219 0.02423219 0.07269657 ...   816234   \n",
       "57           57  [[0.03196014 0.03196014 0.03196014 0.03196014 ...  7154900   \n",
       "\n",
       "      Likes  \n",
       "327   57851  \n",
       "33   213287  \n",
       "15   239606  \n",
       "314   50920  \n",
       "57   365901  "
      ]
     },
     "execution_count": 14,
     "metadata": {},
     "output_type": "execute_result"
    }
   ],
   "source": [
    "X_test.head()"
   ]
  },
  {
   "cell_type": "code",
   "execution_count": 15,
   "metadata": {},
   "outputs": [
    {
     "data": {
      "text/plain": [
       "327    [[0.33333333 0.33333333 0.33333333 0.33333333 ...\n",
       "33     [[0.33333333 0.33333333 0.33333333 0.33333333 ...\n",
       "15     [[0.37796447 0.37796447 0.37796447 0.37796447 ...\n",
       "314    [[0.37796447 0.37796447 0.37796447 0.37796447 ...\n",
       "57     [[0.33333333 0.33333333 0.33333333 0.33333333 ...\n",
       "Name: Title, dtype: object"
      ]
     },
     "execution_count": 15,
     "metadata": {},
     "output_type": "execute_result"
    }
   ],
   "source": [
    "y_test.head()"
   ]
  },
  {
   "cell_type": "code",
   "execution_count": null,
   "metadata": {},
   "outputs": [],
   "source": []
  }
 ],
 "metadata": {
  "kernelspec": {
   "display_name": "Python 3 (ipykernel)",
   "language": "python",
   "name": "python3"
  },
  "language_info": {
   "codemirror_mode": {
    "name": "ipython",
    "version": 3
   },
   "file_extension": ".py",
   "mimetype": "text/x-python",
   "name": "python",
   "nbconvert_exporter": "python",
   "pygments_lexer": "ipython3",
   "version": "3.11.3"
  }
 },
 "nbformat": 4,
 "nbformat_minor": 4
}
