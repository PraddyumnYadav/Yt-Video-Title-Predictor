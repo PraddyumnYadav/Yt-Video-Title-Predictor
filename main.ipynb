{
 "cells": [
  {
   "cell_type": "markdown",
   "metadata": {},
   "source": [
    "# Youtube Video Title Predictor for Dhruv Rathee\n",
    "A **Machine Learning** `Model` to Predict Title of Youtube Videos of Specifically Dhruv Rathee With Input of `Description` and `No. of Views`."
   ]
  },
  {
   "cell_type": "markdown",
   "metadata": {},
   "source": [
    "## Fetch The Data"
   ]
  },
  {
   "cell_type": "code",
   "execution_count": 1,
   "metadata": {
    "tags": []
   },
   "outputs": [],
   "source": [
    "from fetch_data import fetch\n",
    "fetch()"
   ]
  },
  {
   "cell_type": "markdown",
   "metadata": {
    "tags": []
   },
   "source": [
    "## Vectorize The Data"
   ]
  },
  {
   "cell_type": "code",
   "execution_count": 2,
   "metadata": {
    "tags": []
   },
   "outputs": [],
   "source": [
    "from vectorize_data import vectorize_video_text\n",
    "vectorize_video_text()"
   ]
  },
  {
   "cell_type": "markdown",
   "metadata": {},
   "source": [
    "## Load The Data"
   ]
  },
  {
   "cell_type": "code",
   "execution_count": 3,
   "metadata": {
    "tags": []
   },
   "outputs": [
    {
     "data": {
      "text/html": [
       "<div>\n",
       "<style scoped>\n",
       "    .dataframe tbody tr th:only-of-type {\n",
       "        vertical-align: middle;\n",
       "    }\n",
       "\n",
       "    .dataframe tbody tr th {\n",
       "        vertical-align: top;\n",
       "    }\n",
       "\n",
       "    .dataframe thead th {\n",
       "        text-align: right;\n",
       "    }\n",
       "</style>\n",
       "<table border=\"1\" class=\"dataframe\">\n",
       "  <thead>\n",
       "    <tr style=\"text-align: right;\">\n",
       "      <th></th>\n",
       "      <th>Unnamed: 0</th>\n",
       "      <th>Title</th>\n",
       "      <th>Description</th>\n",
       "      <th>Views</th>\n",
       "      <th>Likes</th>\n",
       "    </tr>\n",
       "  </thead>\n",
       "  <tbody>\n",
       "    <tr>\n",
       "      <th>0</th>\n",
       "      <td>0</td>\n",
       "      <td>[[0.40824829 0.40824829 0.40824829 0.40824829 ...</td>\n",
       "      <td>[[0.0298275  0.0298275  0.0298275  0.0298275  ...</td>\n",
       "      <td>2872257</td>\n",
       "      <td>155437</td>\n",
       "    </tr>\n",
       "    <tr>\n",
       "      <th>1</th>\n",
       "      <td>1</td>\n",
       "      <td>[[0.37796447 0.37796447 0.37796447 0.37796447 ...</td>\n",
       "      <td>[[0.03286204 0.03286204 0.06572408 0.03286204 ...</td>\n",
       "      <td>5362716</td>\n",
       "      <td>308419</td>\n",
       "    </tr>\n",
       "    <tr>\n",
       "      <th>2</th>\n",
       "      <td>2</td>\n",
       "      <td>[[0.37796447 0.37796447 0.37796447 0.37796447 ...</td>\n",
       "      <td>[[0.03041495 0.03041495 0.03041495 0.03041495 ...</td>\n",
       "      <td>3954793</td>\n",
       "      <td>193913</td>\n",
       "    </tr>\n",
       "    <tr>\n",
       "      <th>3</th>\n",
       "      <td>3</td>\n",
       "      <td>[[0.37796447 0.37796447 0.37796447 0.37796447 ...</td>\n",
       "      <td>[[0.0302337  0.0302337  0.0302337  0.0302337  ...</td>\n",
       "      <td>3264829</td>\n",
       "      <td>131085</td>\n",
       "    </tr>\n",
       "    <tr>\n",
       "      <th>4</th>\n",
       "      <td>4</td>\n",
       "      <td>[[0.33333333 0.33333333 0.33333333 0.33333333 ...</td>\n",
       "      <td>[[0.03187884 0.06375767 0.03187884 0.06375767 ...</td>\n",
       "      <td>3633006</td>\n",
       "      <td>158043</td>\n",
       "    </tr>\n",
       "  </tbody>\n",
       "</table>\n",
       "</div>"
      ],
      "text/plain": [
       "   Unnamed: 0                                              Title  \\\n",
       "0           0  [[0.40824829 0.40824829 0.40824829 0.40824829 ...   \n",
       "1           1  [[0.37796447 0.37796447 0.37796447 0.37796447 ...   \n",
       "2           2  [[0.37796447 0.37796447 0.37796447 0.37796447 ...   \n",
       "3           3  [[0.37796447 0.37796447 0.37796447 0.37796447 ...   \n",
       "4           4  [[0.33333333 0.33333333 0.33333333 0.33333333 ...   \n",
       "\n",
       "                                         Description    Views   Likes  \n",
       "0  [[0.0298275  0.0298275  0.0298275  0.0298275  ...  2872257  155437  \n",
       "1  [[0.03286204 0.03286204 0.06572408 0.03286204 ...  5362716  308419  \n",
       "2  [[0.03041495 0.03041495 0.03041495 0.03041495 ...  3954793  193913  \n",
       "3  [[0.0302337  0.0302337  0.0302337  0.0302337  ...  3264829  131085  \n",
       "4  [[0.03187884 0.06375767 0.03187884 0.06375767 ...  3633006  158043  "
      ]
     },
     "execution_count": 3,
     "metadata": {},
     "output_type": "execute_result"
    }
   ],
   "source": [
    "import pandas as pd\n",
    "videos = pd.read_csv(\"vectorized_dhruv_rathee_videos.csv\")\n",
    "videos.head()"
   ]
  },
  {
   "cell_type": "code",
   "execution_count": null,
   "metadata": {},
   "outputs": [],
   "source": []
  }
 ],
 "metadata": {
  "kernelspec": {
   "display_name": "Python 3 (ipykernel)",
   "language": "python",
   "name": "python3"
  },
  "language_info": {
   "codemirror_mode": {
    "name": "ipython",
    "version": 3
   },
   "file_extension": ".py",
   "mimetype": "text/x-python",
   "name": "python",
   "nbconvert_exporter": "python",
   "pygments_lexer": "ipython3",
   "version": "3.11.3"
  }
 },
 "nbformat": 4,
 "nbformat_minor": 4
}
