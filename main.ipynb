{
 "cells": [
  {
   "cell_type": "markdown",
   "metadata": {},
   "source": [
    "# Youtube Video Title Predictor for Dhruv Rathee\n",
    "A **Machine Learning** `Model` to Predict Title of Youtube Videos of Specifically Dhruv Rathee With Input of `Description` and `No. of Views`."
   ]
  },
  {
   "cell_type": "markdown",
   "metadata": {},
   "source": [
    "## Fetch The Data"
   ]
  },
  {
   "cell_type": "code",
   "execution_count": 1,
   "metadata": {
    "tags": []
   },
   "outputs": [],
   "source": [
    "from fetch_data import fetch\n",
    "# fetch()"
   ]
  },
  {
   "cell_type": "markdown",
   "metadata": {},
   "source": [
    "## Load The Data"
   ]
  },
  {
   "cell_type": "code",
   "execution_count": 2,
   "metadata": {
    "tags": []
   },
   "outputs": [
    {
     "data": {
      "text/html": [
       "<div>\n",
       "<style scoped>\n",
       "    .dataframe tbody tr th:only-of-type {\n",
       "        vertical-align: middle;\n",
       "    }\n",
       "\n",
       "    .dataframe tbody tr th {\n",
       "        vertical-align: top;\n",
       "    }\n",
       "\n",
       "    .dataframe thead th {\n",
       "        text-align: right;\n",
       "    }\n",
       "</style>\n",
       "<table border=\"1\" class=\"dataframe\">\n",
       "  <thead>\n",
       "    <tr style=\"text-align: right;\">\n",
       "      <th></th>\n",
       "      <th>Title</th>\n",
       "      <th>Description</th>\n",
       "      <th>Views</th>\n",
       "      <th>Likes</th>\n",
       "    </tr>\n",
       "  </thead>\n",
       "  <tbody>\n",
       "    <tr>\n",
       "      <th>0</th>\n",
       "      <td>The Dark Reality of World's Fattest Country | ...</td>\n",
       "      <td>The most obese country in the world might surp...</td>\n",
       "      <td>2793372</td>\n",
       "      <td>145552</td>\n",
       "    </tr>\n",
       "    <tr>\n",
       "      <th>1</th>\n",
       "      <td>Why Hitler Lost? | World War 2 | Dhruv Rathee</td>\n",
       "      <td>In the last part of our World War II series, w...</td>\n",
       "      <td>3314998</td>\n",
       "      <td>167680</td>\n",
       "    </tr>\n",
       "    <tr>\n",
       "      <th>2</th>\n",
       "      <td>The Truth of Pulwama | Satyapal Malik Allegati...</td>\n",
       "      <td>Satyapal Malik, a senior politician and ex-gov...</td>\n",
       "      <td>5896099</td>\n",
       "      <td>328429</td>\n",
       "    </tr>\n",
       "    <tr>\n",
       "      <th>3</th>\n",
       "      <td>Why World War 2 Happened? | The Real Reason | ...</td>\n",
       "      <td>World War II was a significant event in world ...</td>\n",
       "      <td>4141493</td>\n",
       "      <td>198121</td>\n",
       "    </tr>\n",
       "    <tr>\n",
       "      <th>4</th>\n",
       "      <td>Why was Donald Trump Arrested? | Full Case Exp...</td>\n",
       "      <td>Former US President Donald Trump was recently ...</td>\n",
       "      <td>3296577</td>\n",
       "      <td>131908</td>\n",
       "    </tr>\n",
       "  </tbody>\n",
       "</table>\n",
       "</div>"
      ],
      "text/plain": [
       "                                               Title   \n",
       "0  The Dark Reality of World's Fattest Country | ...  \\\n",
       "1      Why Hitler Lost? | World War 2 | Dhruv Rathee   \n",
       "2  The Truth of Pulwama | Satyapal Malik Allegati...   \n",
       "3  Why World War 2 Happened? | The Real Reason | ...   \n",
       "4  Why was Donald Trump Arrested? | Full Case Exp...   \n",
       "\n",
       "                                         Description    Views   Likes  \n",
       "0  The most obese country in the world might surp...  2793372  145552  \n",
       "1  In the last part of our World War II series, w...  3314998  167680  \n",
       "2  Satyapal Malik, a senior politician and ex-gov...  5896099  328429  \n",
       "3  World War II was a significant event in world ...  4141493  198121  \n",
       "4  Former US President Donald Trump was recently ...  3296577  131908  "
      ]
     },
     "execution_count": 2,
     "metadata": {},
     "output_type": "execute_result"
    }
   ],
   "source": [
    "import pandas as pd\n",
    "videos = pd.read_csv(\"dhruv_rathee_videos.csv\")\n",
    "videos.head()"
   ]
  },
  {
   "cell_type": "markdown",
   "metadata": {
    "tags": []
   },
   "source": [
    "## Vectorize The Data"
   ]
  },
  {
   "cell_type": "code",
   "execution_count": 3,
   "metadata": {
    "tags": []
   },
   "outputs": [],
   "source": [
    "from sklearn.feature_extraction.text import TfidfVectorizer\n",
    "\n",
    "# Define a function to vectorize the text data using the TfidfVectorizer\n",
    "def vectorize_text(text):\n",
    "    # Define the TfidfVectorizer with the desired parameters\n",
    "    tfidf = TfidfVectorizer(max_features=1000, stop_words=\"english\")\n",
    "\n",
    "    # Fit the TfidfVectorizer to the text data and transform it to create the vector representation\n",
    "    vector = tfidf.fit_transform([text])\n",
    "\n",
    "    # Return the vector representation as a numpy array\n",
    "    return vector.toarray()\n",
    "\n",
    "\n",
    "videos[\"Title\"] = videos[\"Title\"].apply(lambda x: vectorize_text(x))\n",
    "videos[\"Description\"] = videos[\"Description\"].apply(lambda x: vectorize_text(x))"
   ]
  },
  {
   "attachments": {},
   "cell_type": "markdown",
   "metadata": {},
   "source": [
    "## Info of the DataSet"
   ]
  },
  {
   "cell_type": "code",
   "execution_count": 4,
   "metadata": {},
   "outputs": [
    {
     "name": "stdout",
     "output_type": "stream",
     "text": [
      "<class 'pandas.core.frame.DataFrame'>\n",
      "RangeIndex: 371 entries, 0 to 370\n",
      "Data columns (total 4 columns):\n",
      " #   Column       Non-Null Count  Dtype \n",
      "---  ------       --------------  ----- \n",
      " 0   Title        371 non-null    object\n",
      " 1   Description  371 non-null    object\n",
      " 2   Views        371 non-null    int64 \n",
      " 3   Likes        371 non-null    int64 \n",
      "dtypes: int64(2), object(2)\n",
      "memory usage: 11.7+ KB\n"
     ]
    }
   ],
   "source": [
    "videos.info()"
   ]
  },
  {
   "cell_type": "code",
   "execution_count": 5,
   "metadata": {},
   "outputs": [
    {
     "data": {
      "text/html": [
       "<div>\n",
       "<style scoped>\n",
       "    .dataframe tbody tr th:only-of-type {\n",
       "        vertical-align: middle;\n",
       "    }\n",
       "\n",
       "    .dataframe tbody tr th {\n",
       "        vertical-align: top;\n",
       "    }\n",
       "\n",
       "    .dataframe thead th {\n",
       "        text-align: right;\n",
       "    }\n",
       "</style>\n",
       "<table border=\"1\" class=\"dataframe\">\n",
       "  <thead>\n",
       "    <tr style=\"text-align: right;\">\n",
       "      <th></th>\n",
       "      <th>Views</th>\n",
       "      <th>Likes</th>\n",
       "    </tr>\n",
       "  </thead>\n",
       "  <tbody>\n",
       "    <tr>\n",
       "      <th>count</th>\n",
       "      <td>3.710000e+02</td>\n",
       "      <td>371.000000</td>\n",
       "    </tr>\n",
       "    <tr>\n",
       "      <th>mean</th>\n",
       "      <td>3.335111e+06</td>\n",
       "      <td>183855.299191</td>\n",
       "    </tr>\n",
       "    <tr>\n",
       "      <th>std</th>\n",
       "      <td>2.364448e+06</td>\n",
       "      <td>113729.545290</td>\n",
       "    </tr>\n",
       "    <tr>\n",
       "      <th>min</th>\n",
       "      <td>5.455800e+04</td>\n",
       "      <td>1424.000000</td>\n",
       "    </tr>\n",
       "    <tr>\n",
       "      <th>25%</th>\n",
       "      <td>1.612798e+06</td>\n",
       "      <td>101329.000000</td>\n",
       "    </tr>\n",
       "    <tr>\n",
       "      <th>50%</th>\n",
       "      <td>2.826966e+06</td>\n",
       "      <td>166028.000000</td>\n",
       "    </tr>\n",
       "    <tr>\n",
       "      <th>75%</th>\n",
       "      <td>4.581922e+06</td>\n",
       "      <td>239584.500000</td>\n",
       "    </tr>\n",
       "    <tr>\n",
       "      <th>max</th>\n",
       "      <td>1.286434e+07</td>\n",
       "      <td>718797.000000</td>\n",
       "    </tr>\n",
       "  </tbody>\n",
       "</table>\n",
       "</div>"
      ],
      "text/plain": [
       "              Views          Likes\n",
       "count  3.710000e+02     371.000000\n",
       "mean   3.335111e+06  183855.299191\n",
       "std    2.364448e+06  113729.545290\n",
       "min    5.455800e+04    1424.000000\n",
       "25%    1.612798e+06  101329.000000\n",
       "50%    2.826966e+06  166028.000000\n",
       "75%    4.581922e+06  239584.500000\n",
       "max    1.286434e+07  718797.000000"
      ]
     },
     "execution_count": 5,
     "metadata": {},
     "output_type": "execute_result"
    }
   ],
   "source": [
    "videos.describe()"
   ]
  },
  {
   "attachments": {},
   "cell_type": "markdown",
   "metadata": {},
   "source": [
    "## Split Input and Output from the DataSet"
   ]
  },
  {
   "cell_type": "code",
   "execution_count": 6,
   "metadata": {},
   "outputs": [],
   "source": [
    "# Store the remaining columns in 'X'\n",
    "X = videos.drop('Title', axis=1)\n",
    "\n",
    "# Split the 'Title' column into a separate variable 'y'\n",
    "y = videos['Title']"
   ]
  },
  {
   "cell_type": "code",
   "execution_count": 7,
   "metadata": {},
   "outputs": [
    {
     "data": {
      "text/html": [
       "<div>\n",
       "<style scoped>\n",
       "    .dataframe tbody tr th:only-of-type {\n",
       "        vertical-align: middle;\n",
       "    }\n",
       "\n",
       "    .dataframe tbody tr th {\n",
       "        vertical-align: top;\n",
       "    }\n",
       "\n",
       "    .dataframe thead th {\n",
       "        text-align: right;\n",
       "    }\n",
       "</style>\n",
       "<table border=\"1\" class=\"dataframe\">\n",
       "  <thead>\n",
       "    <tr style=\"text-align: right;\">\n",
       "      <th></th>\n",
       "      <th>Description</th>\n",
       "      <th>Views</th>\n",
       "      <th>Likes</th>\n",
       "    </tr>\n",
       "  </thead>\n",
       "  <tbody>\n",
       "    <tr>\n",
       "      <th>0</th>\n",
       "      <td>[[0.029411764705882353, 0.029411764705882353, ...</td>\n",
       "      <td>2793372</td>\n",
       "      <td>145552</td>\n",
       "    </tr>\n",
       "    <tr>\n",
       "      <th>1</th>\n",
       "      <td>[[0.02982749931359468, 0.02982749931359468, 0....</td>\n",
       "      <td>3314998</td>\n",
       "      <td>167680</td>\n",
       "    </tr>\n",
       "    <tr>\n",
       "      <th>2</th>\n",
       "      <td>[[0.03286203899503875, 0.03286203899503875, 0....</td>\n",
       "      <td>5896099</td>\n",
       "      <td>328429</td>\n",
       "    </tr>\n",
       "    <tr>\n",
       "      <th>3</th>\n",
       "      <td>[[0.030414953233623677, 0.030414953233623677, ...</td>\n",
       "      <td>4141493</td>\n",
       "      <td>198121</td>\n",
       "    </tr>\n",
       "    <tr>\n",
       "      <th>4</th>\n",
       "      <td>[[0.030233702757845024, 0.030233702757845024, ...</td>\n",
       "      <td>3296577</td>\n",
       "      <td>131908</td>\n",
       "    </tr>\n",
       "  </tbody>\n",
       "</table>\n",
       "</div>"
      ],
      "text/plain": [
       "                                         Description    Views   Likes\n",
       "0  [[0.029411764705882353, 0.029411764705882353, ...  2793372  145552\n",
       "1  [[0.02982749931359468, 0.02982749931359468, 0....  3314998  167680\n",
       "2  [[0.03286203899503875, 0.03286203899503875, 0....  5896099  328429\n",
       "3  [[0.030414953233623677, 0.030414953233623677, ...  4141493  198121\n",
       "4  [[0.030233702757845024, 0.030233702757845024, ...  3296577  131908"
      ]
     },
     "execution_count": 7,
     "metadata": {},
     "output_type": "execute_result"
    }
   ],
   "source": [
    "X.head()"
   ]
  },
  {
   "cell_type": "code",
   "execution_count": 8,
   "metadata": {},
   "outputs": [
    {
     "data": {
      "text/plain": [
       "0    [[0.3333333333333333, 0.3333333333333333, 0.33...\n",
       "1    [[0.4082482904638631, 0.4082482904638631, 0.40...\n",
       "2    [[0.3779644730092272, 0.3779644730092272, 0.37...\n",
       "3    [[0.3779644730092272, 0.3779644730092272, 0.37...\n",
       "4    [[0.3779644730092272, 0.3779644730092272, 0.37...\n",
       "Name: Title, dtype: object"
      ]
     },
     "execution_count": 8,
     "metadata": {},
     "output_type": "execute_result"
    }
   ],
   "source": [
    "y.head()"
   ]
  },
  {
   "attachments": {},
   "cell_type": "markdown",
   "metadata": {},
   "source": [
    "# Split `Train` and `Test` Set"
   ]
  },
  {
   "cell_type": "code",
   "execution_count": 9,
   "metadata": {},
   "outputs": [],
   "source": [
    "from sklearn.model_selection import train_test_split\n",
    "\n",
    "# Split Dataset Into Train and Test Set\n",
    "X_train, X_test, y_train, y_test = train_test_split(X, y, test_size=0.2, random_state=42)"
   ]
  },
  {
   "attachments": {},
   "cell_type": "markdown",
   "metadata": {},
   "source": [
    "## Take Info of Both `Train` and `Test` Set"
   ]
  },
  {
   "cell_type": "code",
   "execution_count": 10,
   "metadata": {},
   "outputs": [
    {
     "data": {
      "text/html": [
       "<div>\n",
       "<style scoped>\n",
       "    .dataframe tbody tr th:only-of-type {\n",
       "        vertical-align: middle;\n",
       "    }\n",
       "\n",
       "    .dataframe tbody tr th {\n",
       "        vertical-align: top;\n",
       "    }\n",
       "\n",
       "    .dataframe thead th {\n",
       "        text-align: right;\n",
       "    }\n",
       "</style>\n",
       "<table border=\"1\" class=\"dataframe\">\n",
       "  <thead>\n",
       "    <tr style=\"text-align: right;\">\n",
       "      <th></th>\n",
       "      <th>Description</th>\n",
       "      <th>Views</th>\n",
       "      <th>Likes</th>\n",
       "    </tr>\n",
       "  </thead>\n",
       "  <tbody>\n",
       "    <tr>\n",
       "      <th>192</th>\n",
       "      <td>[[0.06119900613621046, 0.03059950306810523, 0....</td>\n",
       "      <td>1695648</td>\n",
       "      <td>117018</td>\n",
       "    </tr>\n",
       "    <tr>\n",
       "      <th>75</th>\n",
       "      <td>[[0.03077287274483318, 0.03077287274483318, 0....</td>\n",
       "      <td>6060899</td>\n",
       "      <td>325096</td>\n",
       "    </tr>\n",
       "    <tr>\n",
       "      <th>84</th>\n",
       "      <td>[[0.02786391062876764, 0.02786391062876764, 0....</td>\n",
       "      <td>2860754</td>\n",
       "      <td>137997</td>\n",
       "    </tr>\n",
       "    <tr>\n",
       "      <th>359</th>\n",
       "      <td>[[0.01933834476267449, 0.01933834476267449, 0....</td>\n",
       "      <td>208711</td>\n",
       "      <td>13237</td>\n",
       "    </tr>\n",
       "    <tr>\n",
       "      <th>16</th>\n",
       "      <td>[[0.03307706008278112, 0.06615412016556224, 0....</td>\n",
       "      <td>2035775</td>\n",
       "      <td>110762</td>\n",
       "    </tr>\n",
       "  </tbody>\n",
       "</table>\n",
       "</div>"
      ],
      "text/plain": [
       "                                           Description    Views   Likes\n",
       "192  [[0.06119900613621046, 0.03059950306810523, 0....  1695648  117018\n",
       "75   [[0.03077287274483318, 0.03077287274483318, 0....  6060899  325096\n",
       "84   [[0.02786391062876764, 0.02786391062876764, 0....  2860754  137997\n",
       "359  [[0.01933834476267449, 0.01933834476267449, 0....   208711   13237\n",
       "16   [[0.03307706008278112, 0.06615412016556224, 0....  2035775  110762"
      ]
     },
     "execution_count": 10,
     "metadata": {},
     "output_type": "execute_result"
    }
   ],
   "source": [
    "X_train.head()"
   ]
  },
  {
   "cell_type": "code",
   "execution_count": 11,
   "metadata": {},
   "outputs": [
    {
     "data": {
      "text/plain": [
       "192    [[0.3333333333333333, 0.6666666666666666, 0.33...\n",
       "75     [[0.35355339059327373, 0.35355339059327373, 0....\n",
       "84     [[0.31622776601683794, 0.31622776601683794, 0....\n",
       "359    [[0.30151134457776363, 0.30151134457776363, 0....\n",
       "16     [[0.3333333333333333, 0.3333333333333333, 0.33...\n",
       "Name: Title, dtype: object"
      ]
     },
     "execution_count": 11,
     "metadata": {},
     "output_type": "execute_result"
    }
   ],
   "source": [
    "y_train.head()"
   ]
  },
  {
   "cell_type": "code",
   "execution_count": 12,
   "metadata": {},
   "outputs": [
    {
     "data": {
      "text/html": [
       "<div>\n",
       "<style scoped>\n",
       "    .dataframe tbody tr th:only-of-type {\n",
       "        vertical-align: middle;\n",
       "    }\n",
       "\n",
       "    .dataframe tbody tr th {\n",
       "        vertical-align: top;\n",
       "    }\n",
       "\n",
       "    .dataframe thead th {\n",
       "        text-align: right;\n",
       "    }\n",
       "</style>\n",
       "<table border=\"1\" class=\"dataframe\">\n",
       "  <thead>\n",
       "    <tr style=\"text-align: right;\">\n",
       "      <th></th>\n",
       "      <th>Description</th>\n",
       "      <th>Views</th>\n",
       "      <th>Likes</th>\n",
       "    </tr>\n",
       "  </thead>\n",
       "  <tbody>\n",
       "    <tr>\n",
       "      <th>327</th>\n",
       "      <td>[[0.024485105343719588, 0.024485105343719588, ...</td>\n",
       "      <td>1138893</td>\n",
       "      <td>57851</td>\n",
       "    </tr>\n",
       "    <tr>\n",
       "      <th>33</th>\n",
       "      <td>[[0.03205852818187507, 0.09617558454562522, 0....</td>\n",
       "      <td>5666776</td>\n",
       "      <td>213287</td>\n",
       "    </tr>\n",
       "    <tr>\n",
       "      <th>15</th>\n",
       "      <td>[[0.031750031750047626, 0.031750031750047626, ...</td>\n",
       "      <td>5914905</td>\n",
       "      <td>239606</td>\n",
       "    </tr>\n",
       "    <tr>\n",
       "      <th>314</th>\n",
       "      <td>[[0.02423219058363282, 0.02423219058363282, 0....</td>\n",
       "      <td>816234</td>\n",
       "      <td>50920</td>\n",
       "    </tr>\n",
       "    <tr>\n",
       "      <th>57</th>\n",
       "      <td>[[0.03196013860502966, 0.03196013860502966, 0....</td>\n",
       "      <td>7154900</td>\n",
       "      <td>365901</td>\n",
       "    </tr>\n",
       "  </tbody>\n",
       "</table>\n",
       "</div>"
      ],
      "text/plain": [
       "                                           Description    Views   Likes\n",
       "327  [[0.024485105343719588, 0.024485105343719588, ...  1138893   57851\n",
       "33   [[0.03205852818187507, 0.09617558454562522, 0....  5666776  213287\n",
       "15   [[0.031750031750047626, 0.031750031750047626, ...  5914905  239606\n",
       "314  [[0.02423219058363282, 0.02423219058363282, 0....   816234   50920\n",
       "57   [[0.03196013860502966, 0.03196013860502966, 0....  7154900  365901"
      ]
     },
     "execution_count": 12,
     "metadata": {},
     "output_type": "execute_result"
    }
   ],
   "source": [
    "X_test.head()"
   ]
  },
  {
   "cell_type": "code",
   "execution_count": 13,
   "metadata": {},
   "outputs": [
    {
     "data": {
      "text/plain": [
       "327    [[0.3333333333333333, 0.3333333333333333, 0.33...\n",
       "33     [[0.3333333333333333, 0.3333333333333333, 0.33...\n",
       "15     [[0.3779644730092272, 0.3779644730092272, 0.37...\n",
       "314    [[0.3779644730092272, 0.3779644730092272, 0.37...\n",
       "57     [[0.3333333333333333, 0.3333333333333333, 0.33...\n",
       "Name: Title, dtype: object"
      ]
     },
     "execution_count": 13,
     "metadata": {},
     "output_type": "execute_result"
    }
   ],
   "source": [
    "y_test.head()"
   ]
  },
  {
   "cell_type": "code",
   "execution_count": null,
   "metadata": {},
   "outputs": [],
   "source": []
  }
 ],
 "metadata": {
  "kernelspec": {
   "display_name": "Python 3 (ipykernel)",
   "language": "python",
   "name": "python3"
  },
  "language_info": {
   "codemirror_mode": {
    "name": "ipython",
    "version": 3
   },
   "file_extension": ".py",
   "mimetype": "text/x-python",
   "name": "python",
   "nbconvert_exporter": "python",
   "pygments_lexer": "ipython3",
   "version": "3.11.3"
  }
 },
 "nbformat": 4,
 "nbformat_minor": 4
}
