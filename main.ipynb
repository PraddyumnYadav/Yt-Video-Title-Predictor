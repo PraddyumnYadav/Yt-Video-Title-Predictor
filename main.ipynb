{
 "cells": [
  {
   "cell_type": "markdown",
   "metadata": {},
   "source": [
    "# Youtube Video Title Predictor for Dhruv Rathee\n",
    "A **Machine Learning** `Model` to Predict Title of Youtube Videos of Specifically Dhruv Rathee With Input of `Description` and `No. of Views`."
   ]
  },
  {
   "cell_type": "markdown",
   "metadata": {},
   "source": [
    "## Fetch The Data"
   ]
  },
  {
   "cell_type": "code",
   "execution_count": 1,
   "metadata": {
    "tags": []
   },
   "outputs": [],
   "source": [
    "from fetch_data import fetch\n",
    "fetch()"
   ]
  },
  {
   "cell_type": "markdown",
   "metadata": {
    "tags": []
   },
   "source": [
    "## Vectorize The Data"
   ]
  },
  {
   "cell_type": "code",
   "execution_count": 2,
   "metadata": {
    "tags": []
   },
   "outputs": [],
   "source": [
    "from vectorize_data import vectorize_video_text\n",
    "vectorize_video_text()"
   ]
  },
  {
   "cell_type": "markdown",
   "metadata": {},
   "source": [
    "## Load The Data"
   ]
  },
  {
   "cell_type": "code",
   "execution_count": 3,
   "metadata": {
    "tags": []
   },
   "outputs": [
    {
     "data": {
      "text/html": [
       "<div>\n",
       "<style scoped>\n",
       "    .dataframe tbody tr th:only-of-type {\n",
       "        vertical-align: middle;\n",
       "    }\n",
       "\n",
       "    .dataframe tbody tr th {\n",
       "        vertical-align: top;\n",
       "    }\n",
       "\n",
       "    .dataframe thead th {\n",
       "        text-align: right;\n",
       "    }\n",
       "</style>\n",
       "<table border=\"1\" class=\"dataframe\">\n",
       "  <thead>\n",
       "    <tr style=\"text-align: right;\">\n",
       "      <th></th>\n",
       "      <th>Unnamed: 0</th>\n",
       "      <th>Title</th>\n",
       "      <th>Description</th>\n",
       "      <th>Views</th>\n",
       "      <th>Likes</th>\n",
       "    </tr>\n",
       "  </thead>\n",
       "  <tbody>\n",
       "    <tr>\n",
       "      <th>0</th>\n",
       "      <td>0</td>\n",
       "      <td>[[0.33333333 0.33333333 0.33333333 0.33333333 ...</td>\n",
       "      <td>[[0.02941176 0.02941176 0.02941176 0.05882353 ...</td>\n",
       "      <td>2698124</td>\n",
       "      <td>142749</td>\n",
       "    </tr>\n",
       "    <tr>\n",
       "      <th>1</th>\n",
       "      <td>1</td>\n",
       "      <td>[[0.40824829 0.40824829 0.40824829 0.40824829 ...</td>\n",
       "      <td>[[0.0298275  0.0298275  0.0298275  0.0298275  ...</td>\n",
       "      <td>3292969</td>\n",
       "      <td>167205</td>\n",
       "    </tr>\n",
       "    <tr>\n",
       "      <th>2</th>\n",
       "      <td>2</td>\n",
       "      <td>[[0.37796447 0.37796447 0.37796447 0.37796447 ...</td>\n",
       "      <td>[[0.03286204 0.03286204 0.03286204 0.06572408 ...</td>\n",
       "      <td>5875483</td>\n",
       "      <td>327723</td>\n",
       "    </tr>\n",
       "    <tr>\n",
       "      <th>3</th>\n",
       "      <td>3</td>\n",
       "      <td>[[0.37796447 0.37796447 0.37796447 0.37796447 ...</td>\n",
       "      <td>[[0.03041495 0.03041495 0.03041495 0.03041495 ...</td>\n",
       "      <td>4132736</td>\n",
       "      <td>197915</td>\n",
       "    </tr>\n",
       "    <tr>\n",
       "      <th>4</th>\n",
       "      <td>4</td>\n",
       "      <td>[[0.37796447 0.37796447 0.37796447 0.37796447 ...</td>\n",
       "      <td>[[0.0302337  0.0302337  0.0302337  0.0302337  ...</td>\n",
       "      <td>3295082</td>\n",
       "      <td>131868</td>\n",
       "    </tr>\n",
       "  </tbody>\n",
       "</table>\n",
       "</div>"
      ],
      "text/plain": [
       "   Unnamed: 0                                              Title   \n",
       "0           0  [[0.33333333 0.33333333 0.33333333 0.33333333 ...  \\\n",
       "1           1  [[0.40824829 0.40824829 0.40824829 0.40824829 ...   \n",
       "2           2  [[0.37796447 0.37796447 0.37796447 0.37796447 ...   \n",
       "3           3  [[0.37796447 0.37796447 0.37796447 0.37796447 ...   \n",
       "4           4  [[0.37796447 0.37796447 0.37796447 0.37796447 ...   \n",
       "\n",
       "                                         Description    Views   Likes  \n",
       "0  [[0.02941176 0.02941176 0.02941176 0.05882353 ...  2698124  142749  \n",
       "1  [[0.0298275  0.0298275  0.0298275  0.0298275  ...  3292969  167205  \n",
       "2  [[0.03286204 0.03286204 0.03286204 0.06572408 ...  5875483  327723  \n",
       "3  [[0.03041495 0.03041495 0.03041495 0.03041495 ...  4132736  197915  \n",
       "4  [[0.0302337  0.0302337  0.0302337  0.0302337  ...  3295082  131868  "
      ]
     },
     "execution_count": 3,
     "metadata": {},
     "output_type": "execute_result"
    }
   ],
   "source": [
    "import pandas as pd\n",
    "videos = pd.read_csv(\"vectorized_dhruv_rathee_videos.csv\")\n",
    "videos.head()"
   ]
  },
  {
   "attachments": {},
   "cell_type": "markdown",
   "metadata": {},
   "source": [
    "## Info of the DataSet"
   ]
  },
  {
   "cell_type": "code",
   "execution_count": 4,
   "metadata": {},
   "outputs": [
    {
     "name": "stdout",
     "output_type": "stream",
     "text": [
      "<class 'pandas.core.frame.DataFrame'>\n",
      "RangeIndex: 371 entries, 0 to 370\n",
      "Data columns (total 5 columns):\n",
      " #   Column       Non-Null Count  Dtype \n",
      "---  ------       --------------  ----- \n",
      " 0   Unnamed: 0   371 non-null    int64 \n",
      " 1   Title        371 non-null    object\n",
      " 2   Description  371 non-null    object\n",
      " 3   Views        371 non-null    int64 \n",
      " 4   Likes        371 non-null    int64 \n",
      "dtypes: int64(3), object(2)\n",
      "memory usage: 14.6+ KB\n"
     ]
    }
   ],
   "source": [
    "videos.info()"
   ]
  },
  {
   "cell_type": "code",
   "execution_count": 5,
   "metadata": {},
   "outputs": [
    {
     "data": {
      "text/html": [
       "<div>\n",
       "<style scoped>\n",
       "    .dataframe tbody tr th:only-of-type {\n",
       "        vertical-align: middle;\n",
       "    }\n",
       "\n",
       "    .dataframe tbody tr th {\n",
       "        vertical-align: top;\n",
       "    }\n",
       "\n",
       "    .dataframe thead th {\n",
       "        text-align: right;\n",
       "    }\n",
       "</style>\n",
       "<table border=\"1\" class=\"dataframe\">\n",
       "  <thead>\n",
       "    <tr style=\"text-align: right;\">\n",
       "      <th></th>\n",
       "      <th>Unnamed: 0</th>\n",
       "      <th>Views</th>\n",
       "      <th>Likes</th>\n",
       "    </tr>\n",
       "  </thead>\n",
       "  <tbody>\n",
       "    <tr>\n",
       "      <th>count</th>\n",
       "      <td>371.000000</td>\n",
       "      <td>3.710000e+02</td>\n",
       "      <td>371.000000</td>\n",
       "    </tr>\n",
       "    <tr>\n",
       "      <th>mean</th>\n",
       "      <td>185.000000</td>\n",
       "      <td>3.327409e+06</td>\n",
       "      <td>183284.498652</td>\n",
       "    </tr>\n",
       "    <tr>\n",
       "      <th>std</th>\n",
       "      <td>107.242715</td>\n",
       "      <td>2.366164e+06</td>\n",
       "      <td>113654.028788</td>\n",
       "    </tr>\n",
       "    <tr>\n",
       "      <th>min</th>\n",
       "      <td>0.000000</td>\n",
       "      <td>5.455300e+04</td>\n",
       "      <td>1424.000000</td>\n",
       "    </tr>\n",
       "    <tr>\n",
       "      <th>25%</th>\n",
       "      <td>92.500000</td>\n",
       "      <td>1.601772e+06</td>\n",
       "      <td>100536.000000</td>\n",
       "    </tr>\n",
       "    <tr>\n",
       "      <th>50%</th>\n",
       "      <td>185.000000</td>\n",
       "      <td>2.816905e+06</td>\n",
       "      <td>165065.000000</td>\n",
       "    </tr>\n",
       "    <tr>\n",
       "      <th>75%</th>\n",
       "      <td>277.500000</td>\n",
       "      <td>4.581421e+06</td>\n",
       "      <td>239440.000000</td>\n",
       "    </tr>\n",
       "    <tr>\n",
       "      <th>max</th>\n",
       "      <td>370.000000</td>\n",
       "      <td>1.286164e+07</td>\n",
       "      <td>718609.000000</td>\n",
       "    </tr>\n",
       "  </tbody>\n",
       "</table>\n",
       "</div>"
      ],
      "text/plain": [
       "       Unnamed: 0         Views          Likes\n",
       "count  371.000000  3.710000e+02     371.000000\n",
       "mean   185.000000  3.327409e+06  183284.498652\n",
       "std    107.242715  2.366164e+06  113654.028788\n",
       "min      0.000000  5.455300e+04    1424.000000\n",
       "25%     92.500000  1.601772e+06  100536.000000\n",
       "50%    185.000000  2.816905e+06  165065.000000\n",
       "75%    277.500000  4.581421e+06  239440.000000\n",
       "max    370.000000  1.286164e+07  718609.000000"
      ]
     },
     "execution_count": 5,
     "metadata": {},
     "output_type": "execute_result"
    }
   ],
   "source": [
    "videos.describe()"
   ]
  },
  {
   "attachments": {},
   "cell_type": "markdown",
   "metadata": {},
   "source": [
    "## Split Input and Output from the DataSet"
   ]
  },
  {
   "cell_type": "code",
   "execution_count": 6,
   "metadata": {},
   "outputs": [],
   "source": [
    "# Split the 'Title' column into a separate variable 'X'\n",
    "X = videos['Title']\n",
    "\n",
    "# Store the remaining columns in 'Y'\n",
    "Y = videos.drop('Title', axis=1)"
   ]
  },
  {
   "cell_type": "code",
   "execution_count": 7,
   "metadata": {},
   "outputs": [
    {
     "data": {
      "text/plain": [
       "0    [[0.33333333 0.33333333 0.33333333 0.33333333 ...\n",
       "1    [[0.40824829 0.40824829 0.40824829 0.40824829 ...\n",
       "2    [[0.37796447 0.37796447 0.37796447 0.37796447 ...\n",
       "3    [[0.37796447 0.37796447 0.37796447 0.37796447 ...\n",
       "4    [[0.37796447 0.37796447 0.37796447 0.37796447 ...\n",
       "Name: Title, dtype: object"
      ]
     },
     "execution_count": 7,
     "metadata": {},
     "output_type": "execute_result"
    }
   ],
   "source": [
    "X.head()"
   ]
  },
  {
   "cell_type": "code",
   "execution_count": 8,
   "metadata": {},
   "outputs": [
    {
     "data": {
      "text/html": [
       "<div>\n",
       "<style scoped>\n",
       "    .dataframe tbody tr th:only-of-type {\n",
       "        vertical-align: middle;\n",
       "    }\n",
       "\n",
       "    .dataframe tbody tr th {\n",
       "        vertical-align: top;\n",
       "    }\n",
       "\n",
       "    .dataframe thead th {\n",
       "        text-align: right;\n",
       "    }\n",
       "</style>\n",
       "<table border=\"1\" class=\"dataframe\">\n",
       "  <thead>\n",
       "    <tr style=\"text-align: right;\">\n",
       "      <th></th>\n",
       "      <th>Unnamed: 0</th>\n",
       "      <th>Description</th>\n",
       "      <th>Views</th>\n",
       "      <th>Likes</th>\n",
       "    </tr>\n",
       "  </thead>\n",
       "  <tbody>\n",
       "    <tr>\n",
       "      <th>0</th>\n",
       "      <td>0</td>\n",
       "      <td>[[0.02941176 0.02941176 0.02941176 0.05882353 ...</td>\n",
       "      <td>2698124</td>\n",
       "      <td>142749</td>\n",
       "    </tr>\n",
       "    <tr>\n",
       "      <th>1</th>\n",
       "      <td>1</td>\n",
       "      <td>[[0.0298275  0.0298275  0.0298275  0.0298275  ...</td>\n",
       "      <td>3292969</td>\n",
       "      <td>167205</td>\n",
       "    </tr>\n",
       "    <tr>\n",
       "      <th>2</th>\n",
       "      <td>2</td>\n",
       "      <td>[[0.03286204 0.03286204 0.03286204 0.06572408 ...</td>\n",
       "      <td>5875483</td>\n",
       "      <td>327723</td>\n",
       "    </tr>\n",
       "    <tr>\n",
       "      <th>3</th>\n",
       "      <td>3</td>\n",
       "      <td>[[0.03041495 0.03041495 0.03041495 0.03041495 ...</td>\n",
       "      <td>4132736</td>\n",
       "      <td>197915</td>\n",
       "    </tr>\n",
       "    <tr>\n",
       "      <th>4</th>\n",
       "      <td>4</td>\n",
       "      <td>[[0.0302337  0.0302337  0.0302337  0.0302337  ...</td>\n",
       "      <td>3295082</td>\n",
       "      <td>131868</td>\n",
       "    </tr>\n",
       "  </tbody>\n",
       "</table>\n",
       "</div>"
      ],
      "text/plain": [
       "   Unnamed: 0                                        Description    Views   \n",
       "0           0  [[0.02941176 0.02941176 0.02941176 0.05882353 ...  2698124  \\\n",
       "1           1  [[0.0298275  0.0298275  0.0298275  0.0298275  ...  3292969   \n",
       "2           2  [[0.03286204 0.03286204 0.03286204 0.06572408 ...  5875483   \n",
       "3           3  [[0.03041495 0.03041495 0.03041495 0.03041495 ...  4132736   \n",
       "4           4  [[0.0302337  0.0302337  0.0302337  0.0302337  ...  3295082   \n",
       "\n",
       "    Likes  \n",
       "0  142749  \n",
       "1  167205  \n",
       "2  327723  \n",
       "3  197915  \n",
       "4  131868  "
      ]
     },
     "execution_count": 8,
     "metadata": {},
     "output_type": "execute_result"
    }
   ],
   "source": [
    "Y.head()"
   ]
  },
  {
   "cell_type": "code",
   "execution_count": null,
   "metadata": {},
   "outputs": [],
   "source": []
  }
 ],
 "metadata": {
  "kernelspec": {
   "display_name": "Python 3 (ipykernel)",
   "language": "python",
   "name": "python3"
  },
  "language_info": {
   "codemirror_mode": {
    "name": "ipython",
    "version": 3
   },
   "file_extension": ".py",
   "mimetype": "text/x-python",
   "name": "python",
   "nbconvert_exporter": "python",
   "pygments_lexer": "ipython3",
   "version": "3.11.3"
  }
 },
 "nbformat": 4,
 "nbformat_minor": 4
}
